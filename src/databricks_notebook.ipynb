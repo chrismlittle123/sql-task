{
 "cells": [
  {
   "cell_type": "code",
   "execution_count": null,
   "metadata": {},
   "outputs": [],
   "source": [
    "# Import necessary libraries\n",
    "from pyspark.sql import SparkSession\n",
    "\n",
    "# Initialize Spark session\n",
    "spark = SparkSession.builder.appName(\"LoadCSVToSQLTable\").getOrCreate()\n",
    "\n",
    "# Step 1: Read the CSV file from S3 into a DataFrame\n",
    "csv_path = \"s3a://sql-task-495700631743/raw_orders.csv\"\n",
    "df = spark.read.format(\"csv\").option(\"header\", \"true\").option(\"inferSchema\", \"true\").load(csv_path)\n",
    "\n",
    "# Step 2: Create a temporary view\n",
    "df.createOrReplaceTempView(\"raw_orders_view\")\n",
    "\n",
    "# Step 3: Create a Databricks SQL table\n",
    "spark.sql(\n",
    "    \"\"\"\n",
    "    CREATE TABLE IF NOT EXISTS raw_orders AS\n",
    "    SELECT * FROM raw_orders_view\n",
    "\"\"\"\n",
    ")\n",
    "\n",
    "# Stop the Spark session\n",
    "spark.stop()"
   ]
  }
 ],
 "metadata": {
  "language_info": {
   "name": "python"
  }
 },
 "nbformat": 4,
 "nbformat_minor": 2
}
